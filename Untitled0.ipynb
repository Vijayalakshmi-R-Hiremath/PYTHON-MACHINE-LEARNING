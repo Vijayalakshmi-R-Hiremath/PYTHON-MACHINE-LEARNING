{
  "nbformat": 4,
  "nbformat_minor": 0,
  "metadata": {
    "colab": {
      "provenance": []
    },
    "kernelspec": {
      "name": "python3",
      "display_name": "Python 3"
    },
    "language_info": {
      "name": "python"
    }
  },
  "cells": [
    {
      "cell_type": "code",
      "execution_count": null,
      "metadata": {
        "id": "npUG_5YXxPQX"
      },
      "outputs": [],
      "source": []
    },
    {
      "cell_type": "code",
      "source": [
        "name=\"viju\"\n",
        "print(\"my name is\",name )\n",
        "degree=\"bca\"\n",
        "print(\"my name is\",name,\"and my degree is\",degree)\n",
        "age=int(input(\"enter your age\"))\n",
        "print('age')\n",
        "print(\"hello,world\")\n",
        "x=5\n",
        "y=10\n",
        "print(x)\n",
        "print(y)\n"
      ],
      "metadata": {
        "colab": {
          "base_uri": "https://localhost:8080/"
        },
        "id": "Gsn5t-KQ-D8z",
        "outputId": "451b4ebc-6502-4fac-df2e-f7a0fa55c10a"
      },
      "execution_count": null,
      "outputs": [
        {
          "output_type": "stream",
          "name": "stdout",
          "text": [
            "my name is viju\n",
            "my name is viju and my degree is bca\n",
            "enter your age21\n",
            "age\n",
            "hello,world\n",
            "5\n",
            "10\n"
          ]
        }
      ]
    },
    {
      "cell_type": "markdown",
      "source": [
        "print(x) #variable assigment"
      ],
      "metadata": {
        "id": "016CizUSHHpl"
      }
    },
    {
      "cell_type": "code",
      "source": [],
      "metadata": {
        "id": "gj0lhjVSHSn1"
      },
      "execution_count": null,
      "outputs": []
    },
    {
      "cell_type": "markdown",
      "source": [
        "python is case-sensitive"
      ],
      "metadata": {
        "id": "eeCHiRQ-Hyos"
      }
    },
    {
      "cell_type": "code",
      "source": [
        "Name=\"jhon\"\n",
        "name=\"jhon\"\n",
        "print(Name,name) #different variables"
      ],
      "metadata": {
        "colab": {
          "base_uri": "https://localhost:8080/"
        },
        "id": "NOt1hrHmH_Zs",
        "outputId": "73a179be-8c6d-4fbe-c3f6-1b4be090b3ad"
      },
      "execution_count": null,
      "outputs": [
        {
          "output_type": "stream",
          "name": "stdout",
          "text": [
            "jhon jhon\n"
          ]
        }
      ]
    },
    {
      "cell_type": "markdown",
      "source": [
        "indentation matters"
      ],
      "metadata": {
        "id": "STzcQy0CIbAj"
      }
    },
    {
      "cell_type": "code",
      "source": [
        "if x > 0:\n",
        "  print(\"x is positive\") #4 spaces indentation"
      ],
      "metadata": {
        "colab": {
          "base_uri": "https://localhost:8080/"
        },
        "id": "z9OozslDIek8",
        "outputId": "362b119c-64b9-466a-9e4e-1a067140bded"
      },
      "execution_count": null,
      "outputs": [
        {
          "output_type": "stream",
          "name": "stdout",
          "text": [
            "x is positive\n"
          ]
        }
      ]
    },
    {
      "cell_type": "markdown",
      "source": [
        "varibales and data types"
      ],
      "metadata": {
        "id": "QvNMvBkLIy8U"
      }
    },
    {
      "cell_type": "markdown",
      "source": [
        "Numberic data type"
      ],
      "metadata": {
        "id": "sDmLW1CFJRu8"
      }
    },
    {
      "cell_type": "code",
      "source": [
        "age=25 #int\n",
        "print(age)\n",
        "height=5.1 #float\n",
        "complex_num=3+4j #complex\n"
      ],
      "metadata": {
        "colab": {
          "base_uri": "https://localhost:8080/"
        },
        "id": "BYKLE12AJVXc",
        "outputId": "6cb3fb13-99d7-4a1b-fd8d-5f971ee8eaee"
      },
      "execution_count": null,
      "outputs": [
        {
          "output_type": "stream",
          "name": "stdout",
          "text": [
            "25\n"
          ]
        }
      ]
    },
    {
      "cell_type": "markdown",
      "source": [
        "String"
      ],
      "metadata": {
        "id": "MA3O0dbbJ0mN"
      }
    },
    {
      "cell_type": "code",
      "source": [
        "name=\"vijjj\"\n",
        "message=\"hello namste\"\n"
      ],
      "metadata": {
        "id": "4wv-IAFpJ3X0"
      },
      "execution_count": null,
      "outputs": []
    },
    {
      "cell_type": "markdown",
      "source": [
        "Boolean type"
      ],
      "metadata": {
        "id": "M0p5E-4mNEYP"
      }
    },
    {
      "cell_type": "code",
      "source": [
        "is_active=true\n",
        "is_finished=false"
      ],
      "metadata": {
        "id": "HpxX6TPuNG5M"
      },
      "execution_count": null,
      "outputs": []
    },
    {
      "cell_type": "markdown",
      "source": [
        "Type checking"
      ],
      "metadata": {
        "id": "dKI_o5JYNOZd"
      }
    },
    {
      "cell_type": "code",
      "source": [
        "print(type(age)) #<class 'int'>\n",
        "print(type(height)) #<class \"float\">\n",
        "print(type(name)) #<class 'str'>"
      ],
      "metadata": {
        "colab": {
          "base_uri": "https://localhost:8080/"
        },
        "id": "Qr_DwJALNSPt",
        "outputId": "4a59b5cc-8b8a-495a-c9db-5b55c4d7586c"
      },
      "execution_count": null,
      "outputs": [
        {
          "output_type": "stream",
          "name": "stdout",
          "text": [
            "<class 'int'>\n",
            "<class 'float'>\n",
            "<class 'str'>\n"
          ]
        }
      ]
    },
    {
      "cell_type": "markdown",
      "source": [],
      "metadata": {
        "id": "AonzE8wxNsMN"
      }
    },
    {
      "cell_type": "code",
      "source": [
        "type(age)"
      ],
      "metadata": {
        "colab": {
          "base_uri": "https://localhost:8080/"
        },
        "id": "qhTvT7teNtg1",
        "outputId": "9db34404-6400-4271-c7c2-9bb852af0d52"
      },
      "execution_count": null,
      "outputs": [
        {
          "output_type": "execute_result",
          "data": {
            "text/plain": [
              "int"
            ]
          },
          "metadata": {},
          "execution_count": 24
        }
      ]
    },
    {
      "cell_type": "markdown",
      "source": [
        "Type converstion"
      ],
      "metadata": {
        "id": "Ox3Up1jiNyL1"
      }
    },
    {
      "cell_type": "code",
      "source": [
        "str_number =\"123\"\n",
        "int_number = int(str_number)\n",
        "float_number = float(str_number)\n",
        "\n",
        "print(f\"original:{str_number} (type: {type(str_number)})\")\n",
        "print(f\"original:{int_number} (type: {type(int_number)})\")\n",
        "print(f\"original:{float_number} (type: {type(float_number)})\")\n",
        "\n"
      ],
      "metadata": {
        "colab": {
          "base_uri": "https://localhost:8080/"
        },
        "id": "X7_YcPkBN2Hl",
        "outputId": "72080730-3ed1-45cc-b0f6-530266c6f365"
      },
      "execution_count": null,
      "outputs": [
        {
          "output_type": "stream",
          "name": "stdout",
          "text": [
            "original:123 (type: <class 'str'>)\n",
            "original:123 (type: <class 'int'>)\n",
            "original:123.0 (type: <class 'float'>)\n"
          ]
        }
      ]
    },
    {
      "cell_type": "markdown",
      "source": [
        "Exercise 1:"
      ],
      "metadata": {
        "id": "OyfziJpqhsAX"
      }
    },
    {
      "cell_type": "code",
      "source": [
        "first_name = \"Vijayalakshmi\"\n",
        "last_name = \"Hiremath\"\n",
        "age = 20\n",
        "height = 5\n",
        "is_student = True\n"
      ],
      "metadata": {
        "colab": {
          "base_uri": "https://localhost:8080/"
        },
        "id": "oPD9fOkvhwGU",
        "outputId": "fd59b6bb-bd12-4959-a200-84b395af93d3"
      },
      "execution_count": null,
      "outputs": [
        {
          "output_type": "stream",
          "name": "stdout",
          "text": [
            "first_name\n"
          ]
        }
      ]
    },
    {
      "cell_type": "markdown",
      "source": [
        "Print Formatted information"
      ],
      "metadata": {
        "id": "86LLOb7piTxP"
      }
    },
    {
      "cell_type": "code",
      "source": [
        "print(f\"Name: {first_name} {last_name}\")\n",
        "print(f\"Age: {age}\")\n",
        "print(f\"height: {height} feet\")\n",
        "print(f\"Student:{is_student}\")"
      ],
      "metadata": {
        "colab": {
          "base_uri": "https://localhost:8080/"
        },
        "id": "A8QDHJufil8k",
        "outputId": "b3f1bcf2-fb0e-4424-8bf5-f5a9a910e0de"
      },
      "execution_count": null,
      "outputs": [
        {
          "output_type": "stream",
          "name": "stdout",
          "text": [
            "Name: Vijayalakshmi Hiremath\n",
            "Age: 20\n",
            "height: 5 feet\n",
            "Student:True\n"
          ]
        }
      ]
    },
    {
      "cell_type": "markdown",
      "source": [
        "Type conversions"
      ],
      "metadata": {
        "id": "WoN4qmopjuZl"
      }
    },
    {
      "cell_type": "code",
      "source": [
        "age_str = str(age)\n",
        "height_int =int(height)\n",
        "print(f\"age as string: {age_str}\")\n",
        "print(f\"height as integer: {height_int}\")"
      ],
      "metadata": {
        "colab": {
          "base_uri": "https://localhost:8080/"
        },
        "id": "6IcIbO5ij4Nd",
        "outputId": "5691adc9-b13d-4f97-8013-17ece5d2b130"
      },
      "execution_count": null,
      "outputs": [
        {
          "output_type": "stream",
          "name": "stdout",
          "text": [
            "age as string: 20\n",
            "height as integer: 5\n"
          ]
        }
      ]
    },
    {
      "cell_type": "markdown",
      "source": [
        "Operators and Basics Operations"
      ],
      "metadata": {
        "id": "WWjH2XebkQ1_"
      }
    },
    {
      "cell_type": "code",
      "source": [
        "a =10\n",
        "b = 3\n",
        "print(f\"Addition: {a} + {b} = {a + b}\")\n",
        "print(f\"Subtraction:{a} - {b} = {a - b}\")\n",
        "print(f\"Multipication: {a} * {b} = {a * b}\")\n",
        "print(f\"Division: {a} / {b} = {a / b}\")\n",
        "print(f\"Floor Division: {a} // {b} = {a // b}\")\n",
        "print(f\"Modulus: {a} % {b} = {a % b}\")\n",
        "print(f\"exponentiation: {a} ** {b} = {a ** b}\")"
      ],
      "metadata": {
        "colab": {
          "base_uri": "https://localhost:8080/"
        },
        "id": "u87xM0nwkWKe",
        "outputId": "cddfe07c-02f6-4604-d5f6-e6dd7d0fd772"
      },
      "execution_count": null,
      "outputs": [
        {
          "output_type": "stream",
          "name": "stdout",
          "text": [
            "Addition: 10 + 3 = 13\n",
            "Subtraction:10 - 3 = 7\n",
            "Multipication: 10 * 3 = 30\n",
            "Division: 10 / 3 = 3.3333333333333335\n",
            "Floor Division: 10 // 3 = 3\n",
            "Modulus: 10 % 3 = 1\n",
            "exponentiation: 10 ** 3 = 1000\n"
          ]
        }
      ]
    },
    {
      "cell_type": "markdown",
      "source": [
        "Order of operation(PEMDAS)\n",
        "\n",
        "\n",
        "*   p - Parentheses\n",
        "*   E - Exponents\n",
        "*   M - Multipication\n",
        "*   D - Division\n",
        "*   A - Addition\n",
        "*   S - Subtraction\n",
        "\n",
        "\n",
        "\n"
      ],
      "metadata": {
        "id": "dLkjjZCqniV3"
      }
    },
    {
      "cell_type": "code",
      "source": [
        "result = 2+3*4**2-1\n",
        "print(f\"2 + 3 * 4 ** 2 - 1 ={result} \")"
      ],
      "metadata": {
        "colab": {
          "base_uri": "https://localhost:8080/"
        },
        "id": "nXSiRaOUotnu",
        "outputId": "304d4a29-6827-48df-fce9-dbce7e4e41aa"
      },
      "execution_count": null,
      "outputs": [
        {
          "output_type": "stream",
          "name": "stdout",
          "text": [
            "2 + 3 * 4 ** 2 - 1 =49 \n"
          ]
        }
      ]
    },
    {
      "cell_type": "markdown",
      "source": [
        "Relational Operators (or) Comparison"
      ],
      "metadata": {
        "id": "MLu7xyfKpIa_"
      }
    },
    {
      "cell_type": "code",
      "source": [
        "x = 5\n",
        "y = 10\n",
        "print(f\"{x} == {y}: {x == y}\")\n",
        "print(f\"{x} != {y}: {x != y}\")\n",
        "print(f\"{x} < {y}: {x < y}\")\n",
        "print(f\"{x} > {y}: {x > y}\")\n",
        "print(f\"{x} <= {y}: {x <= y}\")\n",
        "print(f\"{x} >= {y}: {x >= y}\")\n"
      ],
      "metadata": {
        "colab": {
          "base_uri": "https://localhost:8080/"
        },
        "id": "RuBgYJNKtHGH",
        "outputId": "dd4c7ece-7378-43e7-952d-ad887be1f53d"
      },
      "execution_count": null,
      "outputs": [
        {
          "output_type": "stream",
          "name": "stdout",
          "text": [
            "5 == 10: False\n",
            "5 != 10: True\n",
            "5 < 10: True\n",
            "5 > 10: False\n",
            "5 <= 10: True\n",
            "5 >= 10: False\n"
          ]
        }
      ]
    },
    {
      "cell_type": "markdown",
      "source": [
        "String comparison"
      ],
      "metadata": {
        "id": "jBeiHFZrul_2"
      }
    },
    {
      "cell_type": "code",
      "source": [
        "name1 = \"alice\"\n",
        "name2 = \"bob\"\n",
        "print(f\"'{name1}' < '{name2}': {name1 < name2}\")"
      ],
      "metadata": {
        "colab": {
          "base_uri": "https://localhost:8080/"
        },
        "id": "j-7iqiLfupE3",
        "outputId": "ecbccb60-0e44-4e3a-9b44-60d8467a5547"
      },
      "execution_count": null,
      "outputs": [
        {
          "output_type": "stream",
          "name": "stdout",
          "text": [
            "'alice' < 'bob': True\n"
          ]
        }
      ]
    },
    {
      "cell_type": "markdown",
      "source": [
        "Logical operators"
      ],
      "metadata": {
        "id": "kJcYXFdDu7eO"
      }
    },
    {
      "cell_type": "code",
      "source": [
        "p = True\n",
        "q = False\n",
        "\n",
        "print(f\"p and q: {p and q}\") #both must be true\n",
        "print(f\"p or q: {p or q}\") # atleast one must be true\n",
        "print(f\" not p: { not p }\") #opposite of p"
      ],
      "metadata": {
        "colab": {
          "base_uri": "https://localhost:8080/"
        },
        "id": "huuP77XAveVI",
        "outputId": "42f382c5-d13a-4812-fdc1-5497e45c94b8"
      },
      "execution_count": null,
      "outputs": [
        {
          "output_type": "stream",
          "name": "stdout",
          "text": [
            "p and q: False\n",
            "p or q: True\n",
            " not p: False\n"
          ]
        }
      ]
    },
    {
      "cell_type": "markdown",
      "source": [],
      "metadata": {
        "id": "v0aynwpmv9aP"
      }
    },
    {
      "cell_type": "code",
      "source": [
        "# Pratical example\n",
        "\n",
        "age = 28\n",
        "has_license = True\n",
        "can_drive = age >= 18 and has_license\n",
        "print(f\"can drive: {can_drive}\")"
      ],
      "metadata": {
        "colab": {
          "base_uri": "https://localhost:8080/"
        },
        "id": "JUvE-v3nv-mH",
        "outputId": "01b225c8-429d-4bab-a1d0-641d64675639"
      },
      "execution_count": null,
      "outputs": [
        {
          "output_type": "stream",
          "name": "stdout",
          "text": [
            "can drive: True\n"
          ]
        }
      ]
    },
    {
      "cell_type": "code",
      "source": [
        "# Multiple conditions\n",
        "score = 85\n",
        "is_present = True\n",
        "can_pass = score >= 80 and is_present\n",
        "print(f\"can pass: {can_pass}\")"
      ],
      "metadata": {
        "colab": {
          "base_uri": "https://localhost:8080/"
        },
        "id": "MkZoeQrBwhjv",
        "outputId": "8f9327ed-ef85-4552-c0d8-5d164242625b"
      },
      "execution_count": null,
      "outputs": [
        {
          "output_type": "stream",
          "name": "stdout",
          "text": [
            "can pass: True\n"
          ]
        }
      ]
    },
    {
      "cell_type": "markdown",
      "source": [
        "Hands-on Exercise\n",
        "Exercise2: Simple Calculator\n",
        "\n",
        "create a calculator that checks if a person qualifies for a loan"
      ],
      "metadata": {
        "id": "MddXluUwxRIZ"
      }
    },
    {
      "cell_type": "code",
      "source": [
        "#personal information\n",
        "age = 25\n",
        "annual_income = 50000\n",
        "credit_score = 720\n",
        "has_collateral = True"
      ],
      "metadata": {
        "id": "e7FQQpAYyzx5"
      },
      "execution_count": null,
      "outputs": []
    },
    {
      "cell_type": "code",
      "source": [
        "#loan criteria\n",
        "min_age = 18\n",
        "min_income = 30000\n",
        "min_credit_score = 650"
      ],
      "metadata": {
        "id": "LP7uakXgzIUg"
      },
      "execution_count": null,
      "outputs": []
    },
    {
      "cell_type": "code",
      "source": [
        "# check qualification\n",
        "\n",
        "age_qualified = age >= min_age\n",
        "income_qualified = annual_income >= min_income\n",
        "credit_qulification = credit_score >= min_credit_score\n",
        "overall_qualified = age_qualified and income_qualified and credit_qualification"
      ],
      "metadata": {
        "id": "bpzC8Nqu3dnY"
      },
      "execution_count": null,
      "outputs": []
    },
    {
      "cell_type": "markdown",
      "source": [
        "Data Structures\n",
        "\n",
        "\n",
        "lists\n",
        "\n",
        "\n",
        "\n",
        "* Creating lists\n",
        "\n"
      ],
      "metadata": {
        "id": "DngtVZJ2-rzZ"
      }
    },
    {
      "cell_type": "code",
      "source": [
        "fruits = [\"apple\",\"banana\",\"orange\",\"grape\"]\n",
        "numbers = [10, 20 , 30, 40, 50]\n",
        "mixed_data = [1, \"hello\",3.14,True]"
      ],
      "metadata": {
        "id": "QOot42u5-21J"
      },
      "execution_count": null,
      "outputs": []
    },
    {
      "cell_type": "markdown",
      "source": [
        "list indexing (0-based)"
      ],
      "metadata": {
        "id": "YzPfm0D3_PZ4"
      }
    },
    {
      "cell_type": "code",
      "source": [
        "print(f\"First fruit: {fruits[0]}\")\n",
        "print(f\"last fruit: {fruits[-1]}\")\n",
        "print(f\"second to last: {fruits[-2]}\")"
      ],
      "metadata": {
        "colab": {
          "base_uri": "https://localhost:8080/"
        },
        "id": "p-qRFs6Q_TbR",
        "outputId": "4de75b60-000a-430f-e11c-26408810e4ea"
      },
      "execution_count": null,
      "outputs": [
        {
          "output_type": "stream",
          "name": "stdout",
          "text": [
            "First fruit: apple\n",
            "last fruit: grape\n",
            "second to last: orange\n"
          ]
        }
      ]
    },
    {
      "cell_type": "markdown",
      "source": [
        "list slicing"
      ],
      "metadata": {
        "id": "6vBtEi9r_qxK"
      }
    },
    {
      "cell_type": "code",
      "source": [
        "print(f\"first 2 fruits:{fruits[0:2]}\")\n",
        "print(f\"last 2 fruits:{fruits[-2:]}\")\n",
        "print(f\"all except fruits:{fruits[1:]}\")"
      ],
      "metadata": {
        "colab": {
          "base_uri": "https://localhost:8080/"
        },
        "id": "3I_cKJ_G_syJ",
        "outputId": "aa53ca43-a24f-4148-98af-1cce3c93cf6a"
      },
      "execution_count": null,
      "outputs": [
        {
          "output_type": "stream",
          "name": "stdout",
          "text": [
            "first 2 fruits:['apple', 'bannan']\n",
            "last 2 fruits:['orange', 'grape']\n",
            "all except fruits:['bannan', 'orange', 'grape']\n"
          ]
        }
      ]
    },
    {
      "cell_type": "markdown",
      "source": [
        "list methods"
      ],
      "metadata": {
        "id": "Ol7xk7-JA0Ci"
      }
    },
    {
      "cell_type": "code",
      "source": [
        "fruits.append(\"kiwi\") #add to end\n",
        "fruits.insert(1,\"strawberry\") #insert at index\n",
        "removed = fruits.pop() #remove last\n",
        "print(f\"updated list: {fruits}\")\n",
        "print(f\"removed: {removed}\")"
      ],
      "metadata": {
        "colab": {
          "base_uri": "https://localhost:8080/"
        },
        "id": "lH8SS5jlA1bh",
        "outputId": "3d9ed795-5147-449b-fa90-078cd8a08a44"
      },
      "execution_count": null,
      "outputs": [
        {
          "output_type": "stream",
          "name": "stdout",
          "text": [
            "updated list: ['apple', 'strawberry', 'bannan', 'orange', 'grape']\n",
            "removed: kiwi\n"
          ]
        }
      ]
    },
    {
      "cell_type": "markdown",
      "source": [
        "list operations"
      ],
      "metadata": {
        "id": "XOyUd1kNB7Pp"
      }
    },
    {
      "cell_type": "code",
      "source": [
        "print(f\"Length: {len(fruits)}\")\n",
        "print(f\"Contains 'apple': {'apple' in fruits}\")\n",
        "print(f\"Index of 'grape': {fruits.index('grape')}\")"
      ],
      "metadata": {
        "colab": {
          "base_uri": "https://localhost:8080/"
        },
        "id": "U-vp4VOsB9iB",
        "outputId": "8782d867-6b5d-457a-c14c-c768781d6ba5"
      },
      "execution_count": null,
      "outputs": [
        {
          "output_type": "stream",
          "name": "stdout",
          "text": [
            "Length: 5\n",
            "Contains 'apple': True\n",
            "Index of 'grape': 4\n"
          ]
        }
      ]
    },
    {
      "cell_type": "markdown",
      "source": [
        "Tuples"
      ],
      "metadata": {
        "id": "yFRDEalsC2cT"
      }
    },
    {
      "cell_type": "markdown",
      "source": [
        "tuples are immutable"
      ],
      "metadata": {
        "id": "hbiZ8Fv2DPRJ"
      }
    },
    {
      "cell_type": "code",
      "source": [
        "coordinates = (10,20)\n",
        "rgb_color = (255,128,0)\n",
        "person_info = (\"alice\",25,\"engineer\",True)"
      ],
      "metadata": {
        "id": "qZ5OcE-1Dd8K"
      },
      "execution_count": null,
      "outputs": []
    },
    {
      "cell_type": "markdown",
      "source": [
        "tuple unpacking"
      ],
      "metadata": {
        "id": "9MEyA9oHD1np"
      }
    },
    {
      "cell_type": "code",
      "source": [
        "X, Y = coordinates\n",
        "print(f\"X: {X}, Y: {Y}\")"
      ],
      "metadata": {
        "colab": {
          "base_uri": "https://localhost:8080/"
        },
        "id": "yVPxF1J-D5Sa",
        "outputId": "f88165ab-c9d9-4a0b-be10-d27785c11198"
      },
      "execution_count": null,
      "outputs": [
        {
          "output_type": "stream",
          "name": "stdout",
          "text": [
            "X: 10, Y: 20\n"
          ]
        }
      ]
    },
    {
      "cell_type": "markdown",
      "source": [
        "tuple methods"
      ],
      "metadata": {
        "id": "qNjEYNWmFS9q"
      }
    },
    {
      "cell_type": "code",
      "source": [
        "print(f\"count of 25: {person_info.count(25)}\")\n",
        "print(f\"index of 'engineer': {person_info.index('engineer')}\")"
      ],
      "metadata": {
        "colab": {
          "base_uri": "https://localhost:8080/"
        },
        "id": "dThUgmNtFVMa",
        "outputId": "b056f1b4-3eab-4e9f-a58e-685580db821f"
      },
      "execution_count": null,
      "outputs": [
        {
          "output_type": "stream",
          "name": "stdout",
          "text": [
            "count of 25: 1\n",
            "index of 'engineer': 2\n"
          ]
        }
      ]
    },
    {
      "cell_type": "markdown",
      "source": [
        "Why we use Tuples?\n",
        "\n",
        "\n",
        "1.  immutable(safe for dictionary keys)\n",
        "2.  slightly faster than lists\n",
        "1.  good for fixed than lists\n",
        "2.   List item\n",
        "\n",
        "\n",
        "\n",
        "\n"
      ],
      "metadata": {
        "id": "FQcHhRKNF8I6"
      }
    },
    {
      "cell_type": "markdown",
      "source": [
        "Dictionaries"
      ],
      "metadata": {
        "id": "DgZTqmxaEV-5"
      }
    },
    {
      "cell_type": "markdown",
      "source": [
        "Dictinory creation"
      ],
      "metadata": {
        "id": "bS7fj6-vEYcS"
      }
    },
    {
      "cell_type": "code",
      "source": [
        "person = {\n",
        "    \"name\": \"Ajay Hiremath\",\n",
        "    \"age\" : 28,\n",
        "    \"profession\" : \"priest\",\n",
        "    \"salary\" : 100000,\n",
        "    \"skills\" : [\"multilanguage\", \"singer\", \"talented\"]\n",
        "    }"
      ],
      "metadata": {
        "id": "RAMapFf4EcCp"
      },
      "execution_count": null,
      "outputs": []
    },
    {
      "cell_type": "markdown",
      "source": [
        "Acessing values"
      ],
      "metadata": {
        "id": "gcfeI6pFFSPL"
      }
    },
    {
      "cell_type": "code",
      "source": [
        "print(f\"name: {person['name']}\")\n",
        "print(f\"age: {person.get('age','unknown')}\")"
      ],
      "metadata": {
        "colab": {
          "base_uri": "https://localhost:8080/"
        },
        "id": "Y9Jzv1_jFVRx",
        "outputId": "791fcc07-c107-4c98-d9d8-3683c06431d1"
      },
      "execution_count": null,
      "outputs": [
        {
          "output_type": "stream",
          "name": "stdout",
          "text": [
            "name: Ajay Hiremath\n",
            "age: 28\n"
          ]
        }
      ]
    },
    {
      "cell_type": "markdown",
      "source": [
        "Dictinory methods"
      ],
      "metadata": {
        "id": "JxxweHalFpxy"
      }
    },
    {
      "cell_type": "code",
      "source": [
        "print(f\"Keys: {list(person.keys())}\")\n",
        "print(f\"Values: {list(person.values())}\")\n",
        "print(f\"Items: {list(person.items())}\")"
      ],
      "metadata": {
        "colab": {
          "base_uri": "https://localhost:8080/"
        },
        "id": "m-N_1iO2FsZK",
        "outputId": "53e71b87-03a4-4d58-9278-c2a700bcba1f"
      },
      "execution_count": null,
      "outputs": [
        {
          "output_type": "stream",
          "name": "stdout",
          "text": [
            "Keys: ['name', 'age', 'prifession', 'salary', 'skills']\n",
            "Values: ['Ajay Hiremath', 28, 'priest', 100000, ['multilanguage', 'singer', 'talented']]\n",
            "Items: [('name', 'Ajay Hiremath'), ('age', 28), ('prifession', 'priest'), ('salary', 100000), ('skills', ['multilanguage', 'singer', 'talented'])]\n"
          ]
        }
      ]
    },
    {
      "cell_type": "markdown",
      "source": [
        "Adding/updating"
      ],
      "metadata": {
        "id": "2gzglcgLGKBK"
      }
    },
    {
      "cell_type": "code",
      "source": [
        "person[\"location\"] = \"New York\"\n",
        "person[\"salary\"] = 80000 #updating existing"
      ],
      "metadata": {
        "id": "O3q8Q0r3GMjS"
      },
      "execution_count": null,
      "outputs": []
    },
    {
      "cell_type": "markdown",
      "source": [
        "practial use case: inventory management"
      ],
      "metadata": {
        "id": "Lv6KDe_mGeTR"
      }
    },
    {
      "cell_type": "code",
      "source": [
        "inventory = {\n",
        "    \"laptops\": {\n",
        "        \"quantity\":50,\n",
        "        \"price\":999.99\n",
        "    },\n",
        "\"phones\": {\n",
        "    \"quantity\":100,\n",
        "    \"price\":599.99\n",
        "},\n",
        "    \"tablets\": {\n",
        "        \"quantity\":30,\n",
        "        \"price\": 399.99\n",
        "    },\n",
        "}"
      ],
      "metadata": {
        "id": "0wpwF8erGkox"
      },
      "execution_count": null,
      "outputs": []
    },
    {
      "cell_type": "markdown",
      "source": [
        "Nested access"
      ],
      "metadata": {
        "id": "ditV-XszHYRa"
      }
    },
    {
      "cell_type": "code",
      "source": [
        "print(f\"Laptop prive:${inventory['laptops']['price']}\")"
      ],
      "metadata": {
        "colab": {
          "base_uri": "https://localhost:8080/"
        },
        "id": "mK6IeIXxHbOL",
        "outputId": "b1f077bf-5a8c-4362-a3be-6bc126ce440a"
      },
      "execution_count": null,
      "outputs": [
        {
          "output_type": "stream",
          "name": "stdout",
          "text": [
            "Laptop prive:$999.99\n"
          ]
        }
      ]
    },
    {
      "cell_type": "markdown",
      "source": [
        "Sets"
      ],
      "metadata": {
        "id": "MOxVMkciHrU6"
      }
    },
    {
      "cell_type": "markdown",
      "source": [
        "Sets contain unique elements"
      ],
      "metadata": {
        "id": "pE_7KbF4Hsuq"
      }
    },
    {
      "cell_type": "code",
      "source": [
        "colors = {\"red\",\"green\",\"blue\",\"red\"}\n",
        "print(f\"colors: {colors}\")"
      ],
      "metadata": {
        "colab": {
          "base_uri": "https://localhost:8080/"
        },
        "id": "TMIeVsbmHxjC",
        "outputId": "a11a717d-bdc1-4fb9-d460-7667430502c1"
      },
      "execution_count": null,
      "outputs": [
        {
          "output_type": "stream",
          "name": "stdout",
          "text": [
            "colors: {'blue', 'red', 'green'}\n"
          ]
        }
      ]
    },
    {
      "cell_type": "markdown",
      "source": [
        "set operations"
      ],
      "metadata": {
        "id": "I1wRzdefIABq"
      }
    },
    {
      "cell_type": "code",
      "source": [
        "team1_skills = {\"python\",\"javascript\",\"sql\",\"react\"}\n",
        "team2_skills = {\"javascript\",\"sql\",\"java\",\"spring\"}"
      ],
      "metadata": {
        "id": "iM-ymyL2IZ9C"
      },
      "execution_count": null,
      "outputs": []
    },
    {
      "cell_type": "markdown",
      "source": [
        "comman operations"
      ],
      "metadata": {
        "id": "JABaedJyKL9y"
      }
    },
    {
      "cell_type": "code",
      "source": [
        "print(f\"comman skills: {team1_skills.intersection(team2_skills)}\")\n",
        "print(f\"All skills: {team1_skills.union(team2_skills)}\")\n",
        "print(f\"Team1 only: {team1_skills.difference(team2_skills)}\")"
      ],
      "metadata": {
        "colab": {
          "base_uri": "https://localhost:8080/"
        },
        "id": "_gkSIN_RKN76",
        "outputId": "ba44dd54-507d-41eb-d594-81281d179565"
      },
      "execution_count": null,
      "outputs": [
        {
          "output_type": "stream",
          "name": "stdout",
          "text": [
            "comman skills: {'javascript', 'sql'}\n",
            "All skills: {'java', 'python', 'javascript', 'spring', 'sql', 'react'}\n",
            "Team1 only: {'python', 'react'}\n"
          ]
        }
      ]
    },
    {
      "cell_type": "markdown",
      "source": [
        "Adding to sets"
      ],
      "metadata": {
        "id": "7VRGlMl2LNMD"
      }
    },
    {
      "cell_type": "code",
      "source": [
        "colors.add(\"yellow\")\n",
        "colors.update([\"purple\",\"orange\"])\n",
        "print(f\"Updated colors: {colors}\")"
      ],
      "metadata": {
        "colab": {
          "base_uri": "https://localhost:8080/"
        },
        "id": "G2G9jLarLQrS",
        "outputId": "82a30564-d899-433e-c78d-6bfe38fe1b41"
      },
      "execution_count": null,
      "outputs": [
        {
          "output_type": "stream",
          "name": "stdout",
          "text": [
            "Updated colors: {'purple', 'red', 'orange', 'blue', 'yellow', 'green'}\n"
          ]
        }
      ]
    },
    {
      "cell_type": "markdown",
      "source": [
        "Control flow statments"
      ],
      "metadata": {
        "id": "k-AQ6FeVNNPI"
      }
    },
    {
      "cell_type": "markdown",
      "source": [
        "Conditional statments"
      ],
      "metadata": {
        "id": "mldy2BdaNQ4i"
      }
    },
    {
      "cell_type": "markdown",
      "source": [
        "Basis if-else"
      ],
      "metadata": {
        "id": "OJksWXXdNalK"
      }
    },
    {
      "cell_type": "code",
      "source": [
        "def get_grade_letter(scope):\n",
        "  if score >= 98:\n",
        "    return \"A\"\n",
        "  elif score >= 80:\n",
        "    return \"B\"\n",
        "  elif score >= 70:\n",
        "    return \"C\"\n",
        "  elif score >=60:\n",
        "    return \"D\"\n",
        "  else:\n",
        "    return \"F\"\n"
      ],
      "metadata": {
        "id": "cIGnpPhJNc3S"
      },
      "execution_count": null,
      "outputs": []
    },
    {
      "cell_type": "markdown",
      "source": [
        "Test the function"
      ],
      "metadata": {
        "id": "_YRQCZDlQECa"
      }
    },
    {
      "cell_type": "code",
      "source": [
        "test_scores = [95, 83, 72, 65, 58]\n",
        "for score in test_scores:\n",
        "  grade = get_grade_letter(score)\n",
        "  print(f\"score {score}: Grade {grade}\")"
      ],
      "metadata": {
        "colab": {
          "base_uri": "https://localhost:8080/"
        },
        "id": "rLNiEBDyQG8a",
        "outputId": "429cb6ab-666d-4ab5-d2e7-6bfd4c07d816"
      },
      "execution_count": null,
      "outputs": [
        {
          "output_type": "stream",
          "name": "stdout",
          "text": [
            "score 95: Grade B\n",
            "score 83: Grade B\n",
            "score 72: Grade C\n",
            "score 65: Grade D\n",
            "score 58: Grade F\n"
          ]
        }
      ]
    },
    {
      "cell_type": "markdown",
      "source": [
        "Nested conditions"
      ],
      "metadata": {
        "id": "2go5MR2rQk9y"
      }
    },
    {
      "cell_type": "code",
      "source": [
        "def get_shipping_cost(weight,distance):\n",
        "  base_count = 5.8\n",
        "\n",
        "  if weight <= 1:\n",
        "    weight_cost = 2.0\n",
        "  elif weight <= 5:\n",
        "    weight_cost = 5.0\n",
        "  else:\n",
        "    weight_cost = 10.0\n",
        "\n",
        "  if distance <= 100:\n",
        "    distance_cost = 1.0\n",
        "  elif distance <= 500:\n",
        "    distance_cost = 3.0\n",
        "  else:\n",
        "    distance_cost = 7.0\n",
        "  return base_count + weight_cost + distance_cost"
      ],
      "metadata": {
        "id": "Fo0aeNipQo3j"
      },
      "execution_count": null,
      "outputs": []
    },
    {
      "cell_type": "markdown",
      "source": [
        "Test shipping costs"
      ],
      "metadata": {
        "id": "AQ9q21x4SKGh"
      }
    },
    {
      "cell_type": "code",
      "source": [
        "print(f\"Light,close:  ${get_shipping_cost(0.5,50)}\")\n",
        "print(f\"Heavy,far: ${get_shipping_cost(10,800)}\")"
      ],
      "metadata": {
        "colab": {
          "base_uri": "https://localhost:8080/"
        },
        "id": "a4tM-J8oSwMJ",
        "outputId": "f4da71f0-284d-460f-f5dd-cb25418755fe"
      },
      "execution_count": null,
      "outputs": [
        {
          "output_type": "stream",
          "name": "stdout",
          "text": [
            "Light,close:  $8.8\n",
            "Heavy,far: $22.8\n",
            "Light,close:  $8.8\n",
            "Heavy,far: $22.8\n"
          ]
        }
      ]
    },
    {
      "cell_type": "markdown",
      "source": [
        "Loops: for loop"
      ],
      "metadata": {
        "id": "EJ2hBfGyTGhZ"
      }
    },
    {
      "cell_type": "markdown",
      "source": [
        "Basic for loop"
      ],
      "metadata": {
        "id": "zA2FhZB-WfwB"
      }
    },
    {
      "cell_type": "code",
      "source": [
        "fruits = [\"apple\", \"banana\", \"orange\", \"grape\"]\n",
        "for fruit in fruits:\n",
        "  print(f\"I Like {fruit}\")"
      ],
      "metadata": {
        "colab": {
          "base_uri": "https://localhost:8080/"
        },
        "id": "ycEbpZdlWiU6",
        "outputId": "0131d179-89eb-49c3-f96a-3aacf96a3dce"
      },
      "execution_count": null,
      "outputs": [
        {
          "output_type": "stream",
          "name": "stdout",
          "text": [
            "I Like apple\n",
            "I Like banana\n",
            "I Like orange\n",
            "I Like grape\n"
          ]
        }
      ]
    },
    {
      "cell_type": "markdown",
      "source": [
        "loop with enumerate (get index)"
      ],
      "metadata": {
        "id": "8iNGcgGUW3ih"
      }
    },
    {
      "cell_type": "code",
      "source": [
        "for i, fruit in enumerate(fruits):\n",
        "  print(f\"{i+1}. {fruit}\")"
      ],
      "metadata": {
        "colab": {
          "base_uri": "https://localhost:8080/"
        },
        "id": "WZabNWrjXPIa",
        "outputId": "d2bca7f6-d862-4f5e-f00b-2e9c9599c29d"
      },
      "execution_count": null,
      "outputs": [
        {
          "output_type": "stream",
          "name": "stdout",
          "text": [
            "1. apple\n",
            "2. banana\n",
            "3. orange\n",
            "4. grape\n"
          ]
        }
      ]
    },
    {
      "cell_type": "markdown",
      "source": [
        "loop with range"
      ],
      "metadata": {
        "id": "87ZUJnVLX6H5"
      }
    },
    {
      "cell_type": "code",
      "source": [
        "for day in range(1, 8):\n",
        "  print(f\"Day {day} of then week\")"
      ],
      "metadata": {
        "colab": {
          "base_uri": "https://localhost:8080/"
        },
        "id": "H5NuXbIeX8Wx",
        "outputId": "7d75f696-314e-4868-95a7-6f040617e3c9"
      },
      "execution_count": null,
      "outputs": [
        {
          "output_type": "stream",
          "name": "stdout",
          "text": [
            "Day 1 of then week\n",
            "Day 2 of then week\n",
            "Day 3 of then week\n",
            "Day 4 of then week\n",
            "Day 5 of then week\n",
            "Day 6 of then week\n",
            "Day 7 of then week\n"
          ]
        }
      ]
    },
    {
      "cell_type": "markdown",
      "source": [
        "Nested loops -creating a multiplication table"
      ],
      "metadata": {
        "id": "1rwZAZu7YXMJ"
      }
    },
    {
      "cell_type": "code",
      "source": [
        "print(f\"Multipication table\")\n",
        "for i in range(1, 6):\n",
        "  for j in range(1, 6):\n",
        "    product = i * j\n",
        "    print(f\"{i} x {j} = {product:2d}\",end=\" \")\n",
        "    print()"
      ],
      "metadata": {
        "colab": {
          "base_uri": "https://localhost:8080/"
        },
        "id": "h2twARKsYf15",
        "outputId": "e7f3cbc9-34bf-4b20-b856-4683b8a2ead0"
      },
      "execution_count": null,
      "outputs": [
        {
          "output_type": "stream",
          "name": "stdout",
          "text": [
            "Multipication table\n",
            "1 x 1 =  1 \n",
            "1 x 2 =  2 \n",
            "1 x 3 =  3 \n",
            "1 x 4 =  4 \n",
            "1 x 5 =  5 \n",
            "2 x 1 =  2 \n",
            "2 x 2 =  4 \n",
            "2 x 3 =  6 \n",
            "2 x 4 =  8 \n",
            "2 x 5 = 10 \n",
            "3 x 1 =  3 \n",
            "3 x 2 =  6 \n",
            "3 x 3 =  9 \n",
            "3 x 4 = 12 \n",
            "3 x 5 = 15 \n",
            "4 x 1 =  4 \n",
            "4 x 2 =  8 \n",
            "4 x 3 = 12 \n",
            "4 x 4 = 16 \n",
            "4 x 5 = 20 \n",
            "5 x 1 =  5 \n",
            "5 x 2 = 10 \n",
            "5 x 3 = 15 \n",
            "5 x 4 = 20 \n",
            "5 x 5 = 25 \n"
          ]
        }
      ]
    },
    {
      "cell_type": "markdown",
      "source": [
        "processing data with loops"
      ],
      "metadata": {
        "id": "ThVCm1z_ZF4J"
      }
    },
    {
      "cell_type": "code",
      "source": [
        "sales_data = [\n",
        "    {\"product\": \"Laptop\",\"price\":999,\"quantity\":5},\n",
        "    {\"product\": \"Phone\",\"price\":599,\"quantity\":10},\n",
        "    {\"product\": \"Tablet\",\"price\":399,\"quantity\":8},\n",
        "\n",
        "]\n",
        "\n",
        "total_revenue = 0\n",
        "\n",
        "for item in sales_data:\n",
        "  item_revenue = item[\"price\"] * item[\"quantity\"]\n",
        "  total_revenue += item_revenue\n",
        "  print(f\"{item['product']}: ${item_revenue}\")\n",
        "\n",
        "print(f\"Total Revenue: ${total_revenue}\")"
      ],
      "metadata": {
        "colab": {
          "base_uri": "https://localhost:8080/"
        },
        "id": "NnPWGEjksSCV",
        "outputId": "be624e7f-461b-4f94-fac5-6d7d0b013d69"
      },
      "execution_count": null,
      "outputs": [
        {
          "output_type": "stream",
          "name": "stdout",
          "text": [
            "Laptop: $4995\n",
            "Phone: $5990\n",
            "Tablet: $3192\n",
            "Total Revenue: $14177\n"
          ]
        }
      ]
    },
    {
      "cell_type": "markdown",
      "source": [
        "loops-while loop"
      ],
      "metadata": {
        "id": "zKM20j_1t7DN"
      }
    },
    {
      "cell_type": "markdown",
      "source": [
        "while loop for user input simulation"
      ],
      "metadata": {
        "id": "UY6pVnL2uLil"
      }
    },
    {
      "cell_type": "code",
      "source": [
        "def simple_guessing_game():\n",
        "  target = 7\n",
        "  guess = 0\n",
        "  attempts = 0\n",
        "  print(f\"guess the number between 1 and 10!\")\n",
        "\n",
        "  while guess != target:\n",
        "\n",
        "    #simulate user input\n",
        "    import random\n",
        "    guess = random.randint(1,10)\n",
        "    attempts += 1\n",
        "\n",
        "    if guess < target:\n",
        "     print(f\"guess {attempts}: {guess} - too low!\")\n",
        "    elif guess > target:\n",
        "      print(f\"guess {attempts}: {guess} - too high!\")\n",
        "    else:\n",
        "      print(f\"guess {attempts}: {guess} - correct!\")\n",
        "\n",
        "    #saftely check\n",
        "    if attempts > 10:\n",
        "      print(\"max attempts reached\")\n",
        "      break\n",
        "\n",
        "  print(f\"guess finished in {attempts} attempts\")\n",
        "\n",
        "simple_guessing_game()\n"
      ],
      "metadata": {
        "colab": {
          "base_uri": "https://localhost:8080/"
        },
        "id": "o_w3P7AJuQCm",
        "outputId": "adeefe29-ae90-4c9c-c305-b818c6bb6dea"
      },
      "execution_count": null,
      "outputs": [
        {
          "output_type": "stream",
          "name": "stdout",
          "text": [
            "guess the number between 1 and 10!\n",
            "guess 1: 5 - too low!\n",
            "guess 2: 1 - too low!\n",
            "guess 3: 1 - too low!\n",
            "guess 4: 9 - too high!\n",
            "guess 5: 7 - correct!\n",
            "guess finished in 5 attempts\n"
          ]
        }
      ]
    },
    {
      "cell_type": "markdown",
      "source": [
        "while loop for processing"
      ],
      "metadata": {
        "id": "T8Mvz-Kayn8I"
      }
    },
    {
      "cell_type": "code",
      "source": [
        "def process_queue():\n",
        "  queue = [\"task 1\",\"task 2\", \"task 3\", \"task 4\"]\n",
        "\n",
        "  while queue:\n",
        "    current_task = queue.pop(0)\n",
        "    print(f\"processing: {current_task}\")\n",
        "\n",
        "    print(f\"remaining tasks: {len(queue)}\")\n",
        "\n",
        "  print(\"all tasks completed!\")\n",
        "\n",
        "process_queue()\n"
      ],
      "metadata": {
        "colab": {
          "base_uri": "https://localhost:8080/"
        },
        "id": "abAD4XRawJRo",
        "outputId": "e1308c10-4ddb-45b9-f1d7-bbf285a8e099"
      },
      "execution_count": null,
      "outputs": [
        {
          "output_type": "stream",
          "name": "stdout",
          "text": [
            "processing: task 1\n",
            "remaining tasks: 3\n",
            "processing: task 2\n",
            "remaining tasks: 2\n",
            "processing: task 3\n",
            "remaining tasks: 1\n",
            "processing: task 4\n",
            "remaining tasks: 0\n",
            "all tasks completed!\n"
          ]
        }
      ]
    },
    {
      "cell_type": "markdown",
      "source": [
        "Function based"
      ],
      "metadata": {
        "id": "Re6RP4HZ1Ekf"
      }
    },
    {
      "cell_type": "markdown",
      "source": [
        "basic function defination"
      ],
      "metadata": {
        "id": "6lvI2xUX1G31"
      }
    },
    {
      "cell_type": "code",
      "source": [
        "def greet(name):\n",
        "  return f\"hello,{name}!\""
      ],
      "metadata": {
        "id": "EkoTOaSm1TTn"
      },
      "execution_count": null,
      "outputs": []
    },
    {
      "cell_type": "markdown",
      "source": [
        "function call"
      ],
      "metadata": {
        "id": "RLQ4ka1e1sn2"
      }
    },
    {
      "cell_type": "code",
      "source": [
        "message = greet(\"viju\")\n",
        "print(message)"
      ],
      "metadata": {
        "colab": {
          "base_uri": "https://localhost:8080/"
        },
        "id": "8gswK0oh1u-W",
        "outputId": "a198605f-80d7-42a1-c81c-e2313aa3bca9"
      },
      "execution_count": null,
      "outputs": [
        {
          "output_type": "stream",
          "name": "stdout",
          "text": [
            "hello,viju!\n"
          ]
        }
      ]
    },
    {
      "cell_type": "markdown",
      "source": [
        "Function with multiple parameters"
      ],
      "metadata": {
        "id": "BTycNAn72Y5-"
      }
    },
    {
      "cell_type": "code",
      "source": [
        "def calculate_area(length, width):\n",
        "  area = length * width\n",
        "  return area"
      ],
      "metadata": {
        "id": "f-RRHgPk2gge"
      },
      "execution_count": null,
      "outputs": []
    },
    {
      "cell_type": "markdown",
      "source": [
        "Text the function"
      ],
      "metadata": {
        "id": "AJSCrNBB2rp1"
      }
    },
    {
      "cell_type": "code",
      "source": [
        "room_area = calculate_area(12, 10)\n",
        "print(f\"room area: {room_area} square feet\")"
      ],
      "metadata": {
        "colab": {
          "base_uri": "https://localhost:8080/"
        },
        "id": "iEHm0IC52vut",
        "outputId": "18bf3556-08f0-4270-b5e6-60cc3c0c29da"
      },
      "execution_count": null,
      "outputs": [
        {
          "output_type": "stream",
          "name": "stdout",
          "text": [
            "room area: 120 square feet\n"
          ]
        }
      ]
    },
    {
      "cell_type": "markdown",
      "source": [
        "Function with default parameters"
      ],
      "metadata": {
        "id": "1RPkWzZD3xOn"
      }
    },
    {
      "cell_type": "code",
      "source": [
        "def create_user_profile(name,age=18,location=\"unknown\",active=True):\n",
        "  return{\n",
        "    \"name\": name,\n",
        "    \"age\": age,\n",
        "    \"locaton\": location,\n",
        "    \"active\": active\n",
        "\n",
        "}"
      ],
      "metadata": {
        "id": "efn1imh0342u"
      },
      "execution_count": null,
      "outputs": []
    },
    {
      "cell_type": "markdown",
      "source": [
        "Different ways to cell\n"
      ],
      "metadata": {
        "id": "KBF-DRlR49EX"
      }
    },
    {
      "cell_type": "code",
      "source": [
        "profile1 = create_user_profile(\"alice\")\n",
        "profile2 = create_user_profile(\"bob\",25)\n",
        "profile3 = create_user_profile(\"charile\", location=\"new york\",age=30)\n",
        "\n",
        "print(profile1)\n",
        "print(profile2)\n",
        "print(profile3)\n",
        "\n"
      ],
      "metadata": {
        "colab": {
          "base_uri": "https://localhost:8080/"
        },
        "id": "NFWxH3-F5A22",
        "outputId": "6e26c614-02cf-4c2e-e414-af071bca278b"
      },
      "execution_count": null,
      "outputs": [
        {
          "output_type": "stream",
          "name": "stdout",
          "text": [
            "{'name': 'alice', 'age': 18, 'locaton': 'unknown', 'active': True}\n",
            "{'name': 'bob', 'age': 25, 'locaton': 'unknown', 'active': True}\n",
            "{'name': 'charile', 'age': 30, 'locaton': 'new york', 'active': True}\n"
          ]
        }
      ]
    },
    {
      "cell_type": "markdown",
      "source": [
        "Advanced function concepts"
      ],
      "metadata": {
        "id": "n0aIaqbH8oQc"
      }
    },
    {
      "cell_type": "markdown",
      "source": [
        "function returning multiple values"
      ],
      "metadata": {
        "id": "Z_-6JQQf8vjt"
      }
    },
    {
      "cell_type": "code",
      "source": [
        "def analyze_text(text):\n",
        "  words = text.split()\n",
        "  word_count = len(words)\n",
        "  char_count = len(text)\n",
        "  char_count_no_spaces = len(text.replace(\" \",\"\"))\n",
        "\n",
        "  return word_count, char_count, char_count_no_spaces"
      ],
      "metadata": {
        "id": "drBDHkMt8zoU"
      },
      "execution_count": null,
      "outputs": []
    },
    {
      "cell_type": "markdown",
      "source": [
        "test with sample text"
      ],
      "metadata": {
        "id": "Z8EfxDpQ9Wzw"
      }
    },
    {
      "cell_type": "code",
      "source": [
        "sample_text = \"Python is a powerful programmimg language\"\n",
        "\n",
        "words,chars, chars_no_space = analyze_text(sample_text)\n",
        "\n",
        "print(f\"text: '{sample_text}'\")\n",
        "print(f\"word count: {words}\")\n",
        "print(f\"character count: {chars}\")\n",
        "print(f\"characters (no spaces): {chars_no_space}\")"
      ],
      "metadata": {
        "colab": {
          "base_uri": "https://localhost:8080/"
        },
        "id": "9ffYSZgn9qMu",
        "outputId": "d0164c42-d770-49d3-9123-6cbb78069378"
      },
      "execution_count": null,
      "outputs": [
        {
          "output_type": "stream",
          "name": "stdout",
          "text": [
            "text: 'Python is a powerful programmimg language'\n",
            "word count: 6\n",
            "character count: 41\n",
            "characters (no spaces): 36\n"
          ]
        }
      ]
    },
    {
      "cell_type": "markdown",
      "source": [
        "variable_length arguments"
      ],
      "metadata": {
        "id": "uGzGbMyj-n4f"
      }
    },
    {
      "cell_type": "code",
      "source": [
        "def calculate_average(*numbers):\n",
        "  if not numbers:\n",
        "    return 0\n",
        "\n",
        "    return sum(numbers) / len(numbers)"
      ],
      "metadata": {
        "id": "jar3s6kj-tdP"
      },
      "execution_count": null,
      "outputs": []
    },
    {
      "cell_type": "markdown",
      "source": [
        "Test with different numbers of arguments"
      ],
      "metadata": {
        "id": "58O5-W0W_Lsn"
      }
    },
    {
      "cell_type": "code",
      "source": [
        "avg1 = calculate_average(10, 20, 30)\n",
        "avg2 = calculate_average(5, 15, 25, 35, 45)\n",
        "avg3 = calculate_average(100)\n",
        "\n",
        "print(f\"average of 10, 20, 30: {avg1}\")\n",
        "print(f\"average of 5, 15, 25, 35, 45: {avg2}\")\n",
        "print(f\"average of 100: {avg3}\")"
      ],
      "metadata": {
        "colab": {
          "base_uri": "https://localhost:8080/"
        },
        "id": "tW8QoR0Q_SoH",
        "outputId": "acef701e-2751-4b03-eb52-62ca5bf475d9"
      },
      "execution_count": null,
      "outputs": [
        {
          "output_type": "stream",
          "name": "stdout",
          "text": [
            "average of 10, 20, 30: None\n",
            "average of 5, 15, 25, 35, 45: None\n",
            "average of 100: None\n"
          ]
        }
      ]
    },
    {
      "cell_type": "markdown",
      "source": [
        "Keyword arguments"
      ],
      "metadata": {
        "id": "heR_tp55A0AH"
      }
    },
    {
      "cell_type": "code",
      "source": [
        "def create_report(**data):\n",
        "  print(\"=== REPORT ===\")\n",
        "\n",
        "  for key, value in data.items():\n",
        "    print(f\"{key.replace('_',' ').title()}: {value}\")\n",
        "\n",
        "  print(\"===============\")\n",
        "\n",
        "\n",
        "create_report(\n",
        "    title=\"Montly sales Report\",\n",
        "    data=\"2024-01-01\",\n",
        "    total_sales=15000,\n",
        "    new_customers=25,\n",
        "    returning_customers=150\n",
        "\n",
        ")"
      ],
      "metadata": {
        "colab": {
          "base_uri": "https://localhost:8080/"
        },
        "id": "C9Z8dIwuA2V0",
        "outputId": "df1eb338-1837-4482-a102-0ccc044e1e87"
      },
      "execution_count": null,
      "outputs": [
        {
          "output_type": "stream",
          "name": "stdout",
          "text": [
            "=== REPORT ===\n",
            "Title: Montly sales Report\n",
            "Data: 2024-01-01\n",
            "Total Sales: 15000\n",
            "New Customers: 25\n",
            "Returning Customers: 150\n",
            "===============\n"
          ]
        }
      ]
    },
    {
      "cell_type": "markdown",
      "source": [
        "Lamda function\n",
        "\n",
        "\n",
        "Lambda with multiple arguments"
      ],
      "metadata": {
        "id": "cMkghJY7C1zH"
      }
    },
    {
      "cell_type": "markdown",
      "source": [
        "regular function"
      ],
      "metadata": {
        "id": "PTNro2PxFK1s"
      }
    },
    {
      "cell_type": "code",
      "source": [
        "def square(x):\n",
        "  return x ** 2"
      ],
      "metadata": {
        "id": "mUAe5WdwFN5W"
      },
      "execution_count": null,
      "outputs": []
    },
    {
      "cell_type": "markdown",
      "source": [
        "lambda equivalent"
      ],
      "metadata": {
        "id": "VYa4ahciFU-U"
      }
    },
    {
      "cell_type": "code",
      "source": [
        "square_lambda = lambda x: x ** 2\n",
        "print(f\"Regular function: {square(5)}\")\n",
        "print(f\"Lambda function: {square_lambda(5)}\")"
      ],
      "metadata": {
        "colab": {
          "base_uri": "https://localhost:8080/"
        },
        "id": "12MshCGqFYdc",
        "outputId": "19f31f81-3afd-4583-a91f-33d6c9631e6f"
      },
      "execution_count": null,
      "outputs": [
        {
          "output_type": "stream",
          "name": "stdout",
          "text": [
            "Regular function: 25\n",
            "Lambda function: 25\n"
          ]
        }
      ]
    },
    {
      "cell_type": "markdown",
      "source": [
        "Lambda with multiple aruguments"
      ],
      "metadata": {
        "id": "XIuy0MU_GsCc"
      }
    },
    {
      "cell_type": "code",
      "source": [
        "multiply = lambda x, y: x * y\n",
        "print(f\"multiply: {multiply(3, 4)}\")"
      ],
      "metadata": {
        "colab": {
          "base_uri": "https://localhost:8080/"
        },
        "id": "9S1-HPTzDlEe",
        "outputId": "ba4765c6-13e8-48d7-f0cc-3502772d11a4"
      },
      "execution_count": null,
      "outputs": [
        {
          "output_type": "stream",
          "name": "stdout",
          "text": [
            "multiply: 12\n"
          ]
        }
      ]
    },
    {
      "cell_type": "markdown",
      "source": [
        "lambda with built-in functions"
      ],
      "metadata": {
        "id": "ptkHGkwqGy-0"
      }
    },
    {
      "cell_type": "code",
      "source": [
        "numbers = [1, 2, 3, 4, 5,]\n",
        "squared = list(map(lambda x: x**2, numbers))\n",
        "print(f\"squared numbers: {squared}\")"
      ],
      "metadata": {
        "colab": {
          "base_uri": "https://localhost:8080/"
        },
        "id": "3X8gghRLHZgF",
        "outputId": "1e3cd5fb-fb6a-41bb-c459-0c5d902951eb"
      },
      "execution_count": null,
      "outputs": [
        {
          "output_type": "stream",
          "name": "stdout",
          "text": [
            "squared numbers: [1, 4, 9, 16, 25]\n"
          ]
        }
      ]
    },
    {
      "cell_type": "markdown",
      "source": [
        "Filtering with lambda"
      ],
      "metadata": {
        "id": "lQCiAChBHuQe"
      }
    },
    {
      "cell_type": "code",
      "source": [
        "ages =  [16, 21, 35, 12, 45, 18, 67]\n",
        "adults = list(filter(lambda age: age >= 18, ages))\n",
        "print(f\"adult ages: {adults}\")"
      ],
      "metadata": {
        "colab": {
          "base_uri": "https://localhost:8080/"
        },
        "id": "e2__3zNAHy_t",
        "outputId": "9f81d031-ece5-4e03-ac97-b5c5ab184407"
      },
      "execution_count": null,
      "outputs": [
        {
          "output_type": "stream",
          "name": "stdout",
          "text": [
            "adult ages: [21, 35, 45, 18, 67]\n"
          ]
        }
      ]
    },
    {
      "cell_type": "markdown",
      "source": [
        "sorting with lambda"
      ],
      "metadata": {
        "id": "I4J8QxLhIevQ"
      }
    },
    {
      "cell_type": "code",
      "source": [
        "people = [\n",
        "    {\"name\": \"alice\", \"age\": 30},\n",
        "    {\"name\": \"bob\", \"age\":25},\n",
        "    {\"name\": \"charu\", \"age\": 35}\n",
        "]\n",
        "sorted_people = sorted(\n",
        "    people,\n",
        "    key=lambda person: person[\"age\"])\n",
        "print(\"people sorted ny age\")\n",
        "\n",
        "for person in sorted_people:\n",
        "  print(f\"{person['name']}: {person['age']}\")"
      ],
      "metadata": {
        "colab": {
          "base_uri": "https://localhost:8080/"
        },
        "id": "SPMgSAYxHlaV",
        "outputId": "8f92b1ea-a054-4480-d9cc-471b23fb14b6"
      },
      "execution_count": null,
      "outputs": [
        {
          "output_type": "stream",
          "name": "stdout",
          "text": [
            "people sorted ny age\n",
            "bob: 25\n",
            "alice: 30\n",
            "charu: 35\n"
          ]
        }
      ]
    }
  ]
}